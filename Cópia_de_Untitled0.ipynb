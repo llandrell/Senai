{
  "nbformat": 4,
  "nbformat_minor": 0,
  "metadata": {
    "colab": {
      "provenance": [],
      "authorship_tag": "ABX9TyMp7/CqAWFWAILN9RWQWC+a",
      "include_colab_link": true
    },
    "kernelspec": {
      "name": "python3",
      "display_name": "Python 3"
    },
    "language_info": {
      "name": "python"
    }
  },
  "cells": [
    {
      "cell_type": "markdown",
      "metadata": {
        "id": "view-in-github",
        "colab_type": "text"
      },
      "source": [
        "<a href=\"https://colab.research.google.com/github/llandrell/Senai/blob/master/C%C3%B3pia_de_Untitled0.ipynb\" target=\"_parent\"><img src=\"https://colab.research.google.com/assets/colab-badge.svg\" alt=\"Open In Colab\"/></a>"
      ]
    },
    {
      "cell_type": "code",
      "execution_count": null,
      "metadata": {
        "id": "q8oJBs-xxytx"
      },
      "outputs": [],
      "source": [
        "print('A Floresta Proibida e os Sete Reino ')\n",
        "nome = input(\"Digite seu nome: \")\n",
        "print(\"-Olá!\",nome,'. Tudo bem? Eu sou João. Um príncipe fada e blá, blá, blá... Sei que pareçe ser muito legal mas não, acredite, é muuuuuuuuuuuuuuuuuuuuuuuuuuuuuuuuuuuuito intediante.')\n",
        "raça = input('-E você? É que raça? ')\n",
        "print('-', raça ,'?! Interesante! acho que podemos ser amigos, você concorda',nome,'?')\n",
        "print('-Mas, como você entrou aqui ?')\n",
        "print('-Eu?! Sou filho da Aline, a braço direito do seu pai...*')\n",
        "print(\"-A minha amiga\", raça)\n",
        "print('-A vossa majest... *')\n",
        "print('-Seja inforrmal', nome,'!' )\n",
        "print(\"-Continuando, você quer fugir comigo?*\")\n",
        "print('-Sim! Mas, tem criaturas muito malvadas e assustadoras lá!!!')\n",
        "print('João carregou ', nome, 'Até o chão.')\n",
        "print(\"E no meio da floresta eles eles ouvira um crack e era um......\")\n",
        "print(\"VAMPIRO!!!!!!!!!!!\")\n",
        "resposta1 = input(\"-Diga algo à ele:\")\n",
        "print('-Oque?!? Como ousa falar', resposta1,'para alguém com eu?!? Ora s...')\n",
        "print('-NÃO JOÃO!!!')\n",
        "print('João foi acertado no meio de seu peito!! eles correm pela floresta fugindo até que 'nome, 'vê uma fumaçade chaminé, e leva joão para aquela casa. Chegando lá encontra uma bruxa anciã, de 500 anos, chamada Aurora e conta tudo pra ela.'nome, 'ficou nervoso(a) e agitado(a) e começa a falar incontrolavelmente.')\n",
        "print(\"-shhhhh, pode calar sua boca por um minuto?! que eu to me concentrando. Você quer ou não ver seu amigo? \")\n",
        "print(\"Horas se passaram até que a bruxa falou...\")\n",
        "print(\"-Não concegui curar ele totalmente, apenas o suficiente para ele andar ok?\")\n",
        "cla = input(\"-Mas\"nome, 'qual é seu clã? ')\n",
        "print(\"-Sério que você é de\"cla, '?!? Esse clã é rarissimo! E uma pergunta, você tem a carta?')\n",
        "print(\"-Que carta?\")\n",
        "print(\"Você poderá visitar todo os sete reinos! Os elfos e as Fadas que se juntaram, os Ogros, os Goblins, os Vampiros os Lobisomens \")"
      ]
    },
    {
      "cell_type": "markdown",
      "source": [],
      "metadata": {
        "id": "RPcCgNMEZNI4"
      }
    }
  ]
}